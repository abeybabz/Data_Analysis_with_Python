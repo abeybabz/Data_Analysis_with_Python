{
 "cells": [
  {
   "cell_type": "code",
   "execution_count": 24,
   "id": "f996c52e-9a81-4b7d-a409-871ebcb2f447",
   "metadata": {},
   "outputs": [],
   "source": [
    "# Import modules\n",
    "import numpy as np # linear algebra\n",
    "import pandas as pd\n",
    "\n",
    "import seaborn as sns\n",
    "\n",
    "import matplotlib.pyplot as plt\n",
    "import matplotlib.mlab as mlab\n",
    "import matplotlib\n",
    "plt.style.use('ggplot')\n",
    "from matplotlib.pyplot import figure"
   ]
  },
  {
   "cell_type": "code",
   "execution_count": 3,
   "id": "1285a754-155b-4630-b376-a52073224582",
   "metadata": {},
   "outputs": [
    {
     "data": {
      "text/html": [
       "<div>\n",
       "<style scoped>\n",
       "    .dataframe tbody tr th:only-of-type {\n",
       "        vertical-align: middle;\n",
       "    }\n",
       "\n",
       "    .dataframe tbody tr th {\n",
       "        vertical-align: top;\n",
       "    }\n",
       "\n",
       "    .dataframe thead th {\n",
       "        text-align: right;\n",
       "    }\n",
       "</style>\n",
       "<table border=\"1\" class=\"dataframe\">\n",
       "  <thead>\n",
       "    <tr style=\"text-align: right;\">\n",
       "      <th></th>\n",
       "      <th>PassengerId</th>\n",
       "      <th>Survived</th>\n",
       "      <th>Pclass</th>\n",
       "      <th>Name</th>\n",
       "      <th>Sex</th>\n",
       "      <th>Age</th>\n",
       "      <th>SibSp</th>\n",
       "      <th>Parch</th>\n",
       "      <th>Ticket</th>\n",
       "      <th>Fare</th>\n",
       "      <th>Cabin</th>\n",
       "      <th>Embarked</th>\n",
       "    </tr>\n",
       "  </thead>\n",
       "  <tbody>\n",
       "    <tr>\n",
       "      <th>0</th>\n",
       "      <td>1</td>\n",
       "      <td>0</td>\n",
       "      <td>3</td>\n",
       "      <td>Braund, Mr. Owen Harris</td>\n",
       "      <td>male</td>\n",
       "      <td>22.0</td>\n",
       "      <td>1</td>\n",
       "      <td>0</td>\n",
       "      <td>A/5 21171</td>\n",
       "      <td>7.2500</td>\n",
       "      <td>NaN</td>\n",
       "      <td>S</td>\n",
       "    </tr>\n",
       "    <tr>\n",
       "      <th>1</th>\n",
       "      <td>2</td>\n",
       "      <td>1</td>\n",
       "      <td>1</td>\n",
       "      <td>Cumings, Mrs. John Bradley (Florence Briggs Th...</td>\n",
       "      <td>female</td>\n",
       "      <td>38.0</td>\n",
       "      <td>1</td>\n",
       "      <td>0</td>\n",
       "      <td>PC 17599</td>\n",
       "      <td>71.2833</td>\n",
       "      <td>C85</td>\n",
       "      <td>C</td>\n",
       "    </tr>\n",
       "    <tr>\n",
       "      <th>2</th>\n",
       "      <td>3</td>\n",
       "      <td>1</td>\n",
       "      <td>3</td>\n",
       "      <td>Heikkinen, Miss. Laina</td>\n",
       "      <td>female</td>\n",
       "      <td>26.0</td>\n",
       "      <td>0</td>\n",
       "      <td>0</td>\n",
       "      <td>STON/O2. 3101282</td>\n",
       "      <td>7.9250</td>\n",
       "      <td>NaN</td>\n",
       "      <td>S</td>\n",
       "    </tr>\n",
       "    <tr>\n",
       "      <th>3</th>\n",
       "      <td>4</td>\n",
       "      <td>1</td>\n",
       "      <td>1</td>\n",
       "      <td>Futrelle, Mrs. Jacques Heath (Lily May Peel)</td>\n",
       "      <td>female</td>\n",
       "      <td>35.0</td>\n",
       "      <td>1</td>\n",
       "      <td>0</td>\n",
       "      <td>113803</td>\n",
       "      <td>53.1000</td>\n",
       "      <td>C123</td>\n",
       "      <td>S</td>\n",
       "    </tr>\n",
       "    <tr>\n",
       "      <th>4</th>\n",
       "      <td>5</td>\n",
       "      <td>0</td>\n",
       "      <td>3</td>\n",
       "      <td>Allen, Mr. William Henry</td>\n",
       "      <td>male</td>\n",
       "      <td>35.0</td>\n",
       "      <td>0</td>\n",
       "      <td>0</td>\n",
       "      <td>373450</td>\n",
       "      <td>8.0500</td>\n",
       "      <td>NaN</td>\n",
       "      <td>S</td>\n",
       "    </tr>\n",
       "  </tbody>\n",
       "</table>\n",
       "</div>"
      ],
      "text/plain": [
       "   PassengerId  Survived  Pclass  \\\n",
       "0            1         0       3   \n",
       "1            2         1       1   \n",
       "2            3         1       3   \n",
       "3            4         1       1   \n",
       "4            5         0       3   \n",
       "\n",
       "                                                Name     Sex   Age  SibSp  \\\n",
       "0                            Braund, Mr. Owen Harris    male  22.0      1   \n",
       "1  Cumings, Mrs. John Bradley (Florence Briggs Th...  female  38.0      1   \n",
       "2                             Heikkinen, Miss. Laina  female  26.0      0   \n",
       "3       Futrelle, Mrs. Jacques Heath (Lily May Peel)  female  35.0      1   \n",
       "4                           Allen, Mr. William Henry    male  35.0      0   \n",
       "\n",
       "   Parch            Ticket     Fare Cabin Embarked  \n",
       "0      0         A/5 21171   7.2500   NaN        S  \n",
       "1      0          PC 17599  71.2833   C85        C  \n",
       "2      0  STON/O2. 3101282   7.9250   NaN        S  \n",
       "3      0            113803  53.1000  C123        S  \n",
       "4      0            373450   8.0500   NaN        S  "
      ]
     },
     "execution_count": 3,
     "metadata": {},
     "output_type": "execute_result"
    }
   ],
   "source": [
    "# Loading the Library and examing the data \n",
    "titanic = pd.read_csv('https://raw.githubusercontent.com/dphi-official/First_ML_Model/master/titanic.csv') \n",
    "titanic.head()"
   ]
  },
  {
   "cell_type": "code",
   "execution_count": 25,
   "id": "6146f5dc-29e6-4736-a31c-9123e694d23b",
   "metadata": {},
   "outputs": [
    {
     "data": {
      "text/plain": [
       "<AxesSubplot:>"
      ]
     },
     "execution_count": 25,
     "metadata": {},
     "output_type": "execute_result"
    },
    {
     "data": {
      "image/png": "[encoded data removed]",
      "text/plain": [
       "<Figure size 432x288 with 2 Axes>"
      ]
     },
     "metadata": {},
     "output_type": "display_data"
    }
   ],
   "source": [
    "\n",
    "cols = titanic.columns # first 30 columns\n",
    "colours = ['#000099', '#ffff00']\n",
    "\n",
    "# specify the colours - yellow is missing. blue is not missing.\n",
    "\n",
    "sns.heatmap(titanic[cols].isnull(), cmap=sns.color_palette(colours))"
   ]
  },
  {
   "cell_type": "code",
   "execution_count": 26,
   "id": "596520a5-87b1-4272-970a-8d3b1baf1a4a",
   "metadata": {},
   "outputs": [
    {
     "name": "stdout",
     "output_type": "stream",
     "text": [
      "PassengerId - 0%\n",
      "Survived - 0%\n",
      "Pclass - 0%\n",
      "Name - 0%\n",
      "Sex - 0%\n",
      "Age - 20%\n",
      "SibSp - 0%\n",
      "Parch - 0%\n",
      "Ticket - 0%\n",
      "Fare - 0%\n",
      "Cabin - 77%\n",
      "Embarked - 0%\n"
     ]
    }
   ],
   "source": [
    "# Missing Data Percentage List\n",
    "# if it's a larger dataset and the visualization takes too long can do this.\n",
    "# % of missing.\n",
    "for col in titanic.columns:\n",
    "    pct_missing = np.mean(titanic[col].isnull())\n",
    "    print('{} - {}%'.format(col, round(pct_missing*100)))"
   ]
  },
  {
   "cell_type": "code",
   "execution_count": 28,
   "id": "84b32189-ab50-4a0a-b223-454fcfda05ff",
   "metadata": {},
   "outputs": [
    {
     "data": {
      "text/plain": [
       "PassengerId      0\n",
       "Survived         0\n",
       "Pclass           0\n",
       "Name             0\n",
       "Sex              0\n",
       "Age            177\n",
       "SibSp            0\n",
       "Parch            0\n",
       "Ticket           0\n",
       "Fare             0\n",
       "Cabin          687\n",
       "Embarked         2\n",
       "dtype: int64"
      ]
     },
     "execution_count": 28,
     "metadata": {},
     "output_type": "execute_result"
    }
   ],
   "source": [
    "titanic.isnull().sum()"
   ]
  },
  {
   "cell_type": "code",
   "execution_count": 29,
   "id": "bb3d67fa-17df-48ff-95ce-01c8bda4ff51",
   "metadata": {},
   "outputs": [
    {
     "name": "stdout",
     "output_type": "stream",
     "text": [
      "created missing indicator for: Age\n",
      "created missing indicator for: Cabin\n",
      "created missing indicator for: Embarked\n"
     ]
    },
    {
     "data": {
      "text/plain": [
       "<AxesSubplot:xlabel='index'>"
      ]
     },
     "execution_count": 29,
     "metadata": {},
     "output_type": "execute_result"
    },
    {
     "data": {
      "image/png": "[encoded data removed]",
      "text/plain": [
       "<Figure size 432x288 with 1 Axes>"
      ]
     },
     "metadata": {},
     "output_type": "display_data"
    }
   ],
   "source": [
    "# Missing Data Histogram\n",
    "# first create missing indicator for features with missing data\n",
    "for col in titanic.columns:\n",
    "    missing = titanic[col].isnull()\n",
    "    num_missing = np.sum(missing)\n",
    "    \n",
    "    if num_missing > 0:  \n",
    "        print('created missing indicator for: {}'.format(col))\n",
    "        titanic['{}_ismissing'.format(col)] = missing\n",
    "\n",
    "\n",
    "# then based on the indicator, plot the histogram of missing values\n",
    "ismissing_cols = [col for col in titanic.columns if 'ismissing' in col]\n",
    "titanic['num_missing'] = titanic[ismissing_cols].sum(axis=1)\n",
    "\n",
    "titanic['num_missing'].value_counts().reset_index().sort_values(by='index').plot.bar(x='index', y='num_missing')"
   ]
  },
  {
   "cell_type": "code",
   "execution_count": 32,
   "id": "b263162d-f697-4646-afb8-f387ae2247f9",
   "metadata": {},
   "outputs": [
    {
     "name": "stdout",
     "output_type": "stream",
     "text": [
      "Total number of passangers in the training data... 891\n",
      "Number of passangers in the training data who survived... 342\n",
      "Number of passangers in the training data who did NOT survive... 549\n"
     ]
    }
   ],
   "source": [
    "# Exploratory Data Analysis \n",
    "print('Total number of passangers in the training data...', len(titanic))\n",
    "print('Number of passangers in the training data who survived...', len(titanic[titanic['Survived'] == 1]))\n",
    "print('Number of passangers in the training data who did NOT survive...',  len(titanic[titanic['Survived'] == 0]))"
   ]
  },
  {
   "cell_type": "code",
   "execution_count": 50,
   "id": "76b3e3c4-b2fa-4b98-86b1-67f9e3a99430",
   "metadata": {},
   "outputs": [
    {
     "name": "stdout",
     "output_type": "stream",
     "text": [
      "% of men who survived 18.890814558058924\n",
      "% of women who survived 74.20382165605095\n",
      "% of survival based on 1st class  62.96296296296296\n",
      "% of survival based on 2nd class  47.28260869565217\n",
      "% of survival based on 3rd class  24.236252545824847\n"
     ]
    }
   ],
   "source": [
    "print('% of men who survived', 100*np.mean(titanic['Survived'][titanic['Sex'] == 'male']))\n",
    "print('% of women who survived', 100*np.mean(titanic['Survived'][titanic['Sex'] == 'female']))\n",
    "\n",
    "print('% of survival based on 1st class ', 100*np.mean(titanic['Survived'][titanic['Pclass']  == 1]))\n",
    "print('% of survival based on 2nd class ', 100*np.mean(titanic['Survived'][titanic['Pclass']  == 2]))\n",
    "print('% of survival based on 3rd class ', 100*np.mean(titanic['Survived'][titanic['Pclass']  == 3]))"
   ]
  },
  {
   "cell_type": "code",
   "execution_count": 51,
   "id": "2414d38f-95d3-4871-895d-602359b94184",
   "metadata": {},
   "outputs": [
    {
     "name": "stdout",
     "output_type": "stream",
     "text": [
      "% of children who survived 53.98230088495575\n",
      "% of adult who survived 38.26086956521739\n"
     ]
    }
   ],
   "source": [
    "print('% of children who survived', 100*np.mean(titanic['Survived'][titanic['Age'] < 18]))\n",
    "print('% of adult who survived', 100*np.mean(titanic['Survived'][titanic['Age'] > 18]))"
   ]
  },
  {
   "cell_type": "code",
   "execution_count": 60,
   "id": "c243dff6-86f7-49ad-b9b4-5e6521607750",
   "metadata": {},
   "outputs": [
    {
     "name": "stderr",
     "output_type": "stream",
     "text": [
      "C:\\Users\\Tunji\\AppData\\Local\\Temp/ipykernel_9084/2964679734.py:1: UserWarning: Boolean Series key will be reindexed to match DataFrame index.\n",
      "  len(titanic[titanic['Survived'] ==1][titanic['Age'] < 18])\n"
     ]
    },
    {
     "data": {
      "text/plain": [
       "61"
      ]
     },
     "execution_count": 60,
     "metadata": {},
     "output_type": "execute_result"
    }
   ],
   "source": [
    "len(titanic[titanic['Survived'] ==1][titanic['Age'] < 18])"
   ]
  },
  {
   "cell_type": "code",
   "execution_count": 61,
   "id": "f800b474-24dc-4889-a422-02535281c9ab",
   "metadata": {},
   "outputs": [],
   "source": [
    "# Data Preprocessing\n",
    "#Non numeric features to numeric\n",
    "#We are going to use a decision tree model. The model requires only numeric values, \n",
    "#but one of our features is categorical: \"female\" or \"male\". this can easily be fixed by encoding this feature: \"male\" = 1, \"female\" = 0\n",
    "\n",
    "\n",
    "titanic['Sex'] = titanic['Sex'].apply(lambda x: 1 if x == 'male' else 0)"
   ]
  },
  {
   "cell_type": "code",
   "execution_count": 62,
   "id": "1b2bb15d-ea80-4a99-8c94-2efe4d713188",
   "metadata": {},
   "outputs": [],
   "source": [
    "# Missing Value with mean(average value)\n",
    "titanic['Age'] = titanic['Age'].fillna(np.mean(titanic['Age']))"
   ]
  },
  {
   "cell_type": "code",
   "execution_count": 63,
   "id": "b27bfa2d-3b67-4637-82d6-5127676e6ffb",
   "metadata": {},
   "outputs": [
    {
     "data": {
      "text/plain": [
       "S    644\n",
       "C    168\n",
       "Q     77\n",
       "Name: Embarked, dtype: int64"
      ]
     },
     "execution_count": 63,
     "metadata": {},
     "output_type": "execute_result"
    }
   ],
   "source": [
    "# Looking at frequency of each values in 'Embarked'\n",
    "titanic.Embarked.value_counts()"
   ]
  },
  {
   "cell_type": "code",
   "execution_count": 64,
   "id": "f57c52b5-882e-41e0-9f1e-8bf4158a10d1",
   "metadata": {},
   "outputs": [],
   "source": [
    "# We can use fillna() function to fill the missing values (Value filled by finding the most common variable(mode))\n",
    "titanic.Embarked.fillna(value='S', axis = 0, inplace = True) #rowwise input"
   ]
  },
  {
   "cell_type": "code",
   "execution_count": 65,
   "id": "345ea95d-a623-496d-b4af-377ee7d3ffb5",
   "metadata": {},
   "outputs": [
    {
     "data": {
      "text/plain": [
       "PassengerId             0\n",
       "Survived                0\n",
       "Pclass                  0\n",
       "Name                    0\n",
       "Sex                     0\n",
       "Age                     0\n",
       "SibSp                   0\n",
       "Parch                   0\n",
       "Ticket                  0\n",
       "Fare                    0\n",
       "Cabin                 687\n",
       "Embarked                0\n",
       "Age_ismissing           0\n",
       "Cabin_ismissing         0\n",
       "Embarked_ismissing      0\n",
       "num_missing             0\n",
       "dtype: int64"
      ]
     },
     "execution_count": 65,
     "metadata": {},
     "output_type": "execute_result"
    }
   ],
   "source": [
    "titanic.isnull().sum()"
   ]
  },
  {
   "cell_type": "code",
   "execution_count": 66,
   "id": "ffcdfdc7-527d-410e-b634-75ade35a4c17",
   "metadata": {},
   "outputs": [],
   "source": [
    "# Omit irrelevant columns\n",
    "\n",
    "\n",
    "titanic = titanic[['Survived', 'Pclass', 'Sex', 'Age', 'SibSp', 'Parch', 'Fare']]\n",
    "\n"
   ]
  },
  {
   "cell_type": "code",
   "execution_count": 67,
   "id": "231fee2a-3f02-45f7-a3af-cb93d8ef5802",
   "metadata": {},
   "outputs": [],
   "source": [
    "#Separating input variables (X) and target variable (y)\n",
    "\n",
    "X = titanic.drop('Survived', axis = 1)\n",
    "y = titanic['Survived']"
   ]
  },
  {
   "cell_type": "code",
   "execution_count": 68,
   "id": "2244dcc6-019e-41ef-b796-c59e7bd8fb78",
   "metadata": {},
   "outputs": [],
   "source": [
    "# Train Test and Split\n",
    "from sklearn.model_selection import train_test_split\n",
    "X_train, X_test, y_train, y_test = train_test_split(X, y, test_size=0.20, random_state=23)"
   ]
  },
  {
   "cell_type": "code",
   "execution_count": 69,
   "id": "9f46a90a-8981-4f7f-bbbf-3a088130c942",
   "metadata": {},
   "outputs": [
    {
     "data": {
      "text/plain": [
       "DecisionTreeClassifier()"
      ]
     },
     "execution_count": 69,
     "metadata": {},
     "output_type": "execute_result"
    }
   ],
   "source": [
    "# Building an ML MODEl (Decision tree)\n",
    "from sklearn.tree import DecisionTreeClassifier\n",
    "model = DecisionTreeClassifier()\n",
    "model.fit(X_train, y_train)"
   ]
  },
  {
   "cell_type": "code",
   "execution_count": 70,
   "id": "ba5a53bc-220c-4b60-b516-a7f4c0278e4e",
   "metadata": {},
   "outputs": [
    {
     "name": "stdout",
     "output_type": "stream",
     "text": [
      "Training accuracy... 0.9859550561797753\n",
      "Test accuracy 0.7988826815642458\n"
     ]
    }
   ],
   "source": [
    "# Evaluate your Model\n",
    "from sklearn.metrics import accuracy_score\n",
    "print('Training accuracy...', accuracy_score(y_train, model.predict(X_train)))\n",
    "print('Test accuracy', accuracy_score(y_test, model.predict(X_test)))"
   ]
  },
  {
   "cell_type": "code",
   "execution_count": 71,
   "id": "645eed2f-d9a5-4343-a7ef-86e59bf738f2",
   "metadata": {},
   "outputs": [],
   "source": [
    "from sklearn.tree import export_graphviz\n",
    "import graphviz"
   ]
  },
  {
   "cell_type": "code",
   "execution_count": 72,
   "id": "f7138252-5e1a-4a98-8590-e4ebe6e8d4db",
   "metadata": {},
   "outputs": [],
   "source": [
    "dot_data= export_graphviz(model, out_file=None, \n",
    "                    feature_names=X_test.columns,  \n",
    "                      class_names=['0', '1'],  \n",
    "                      filled=True, rounded=True,  \n",
    "                      special_characters=True) "
   ]
  },
  {
   "cell_type": "code",
   "execution_count": 73,
   "id": "d01be922-787e-414f-94f6-566119a18859",
   "metadata": {},
   "outputs": [],
   "source": [
    "graph1=graphviz.Source(dot_data)"
   ]
  },
  {
   "cell_type": "code",
   "execution_count": null,
   "id": "091b2cb9-4276-4cc8-9316-b10a8956d9e4",
   "metadata": {},
   "outputs": [],
   "source": [
    "graph1"
   ]
  },
  {
   "cell_type": "code",
   "execution_count": 75,
   "id": "67f5caac-7ce7-41bf-a38a-0697bbe57164",
   "metadata": {},
   "outputs": [
    {
     "data": {
      "text/plain": [
       "DecisionTreeClassifier(max_depth=3)"
      ]
     },
     "execution_count": 75,
     "metadata": {},
     "output_type": "execute_result"
    }
   ],
   "source": [
    "# Improve the model\n",
    "model_improved = DecisionTreeClassifier(max_depth = 3)\n",
    "model_improved.fit(X_train, y_train)"
   ]
  },
  {
   "cell_type": "code",
   "execution_count": 76,
   "id": "97508afb-2d83-4398-ab61-f15493b12374",
   "metadata": {},
   "outputs": [
    {
     "name": "stdout",
     "output_type": "stream",
     "text": [
      "train score... 0.8384831460674157\n",
      "test score... 0.7988826815642458\n"
     ]
    }
   ],
   "source": [
    "print('train score...' , accuracy_score(y_train, model_improved.predict(X_train)))\n",
    "print('test score...', accuracy_score(y_test, model_improved.predict(X_test)))\n",
    "\n"
   ]
  },
  {
   "cell_type": "code",
   "execution_count": null,
   "id": "b7a03702-bead-47d1-b15e-7164f6d0f9f3",
   "metadata": {},
   "outputs": [],
   "source": [
    "dot_data= export_graphviz(model_improved, out_file=None,impurity=False, \n",
    "                    feature_names=X_test.columns,  \n",
    "                      class_names=['0', '1'],  \n",
    "                      filled=True, rounded=True)"
   ]
  },
  {
   "cell_type": "code",
   "execution_count": null,
   "id": "3f542c83-eabf-4b46-b88d-178c9d704878",
   "metadata": {},
   "outputs": [],
   "source": [
    "\n",
    "\n",
    "graph2=graphviz.Source(dot_data)\n",
    "\n"
   ]
  },
  {
   "cell_type": "code",
   "execution_count": null,
   "id": "86c8d4cb-a2aa-48ee-a831-739cdb1d715c",
   "metadata": {},
   "outputs": [],
   "source": [
    "graph2"
   ]
  }
 ],
 "metadata": {
  "kernelspec": {
   "display_name": "Python 3 (ipykernel)",
   "language": "python",
   "name": "python3"
  },
  "language_info": {
   "codemirror_mode": {
    "name": "ipython",
    "version": 3
   },
   "file_extension": ".py",
   "mimetype": "text/x-python",
   "name": "python",
   "nbconvert_exporter": "python",
   "pygments_lexer": "ipython3",
   "version": "3.9.7"
  }
 },
 "nbformat": 4,
 "nbformat_minor": 5
}
